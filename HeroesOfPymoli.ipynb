{
 "cells": [
  {
   "cell_type": "code",
   "execution_count": null,
   "metadata": {
    "collapsed": true
   },
   "outputs": [],
   "source": [
    "# import modules\n",
    "import pandas as pd\n",
    "import os"
   ]
  },
  {
   "cell_type": "code",
   "execution_count": null,
   "metadata": {},
   "outputs": [],
   "source": [
    "# assign file path\n",
    "json_path = os.path.join('HeroesOfPymoli','purchase_data.json')\n",
    "#json_path = os.path.join('HeroesOfPymoli','purchase_data2.json')\n",
    "\n",
    "# read json file\n",
    "hp_df = pd.read_json(json_path)\n",
    "hp_df.head()"
   ]
  },
  {
   "cell_type": "code",
   "execution_count": null,
   "metadata": {
    "scrolled": true
   },
   "outputs": [],
   "source": [
    "# Total number of players\n",
    "# Players_Count = hp_df['SN'].count()\n",
    "Players_Count = hp_df['SN'].nunique()\n",
    "Players_df = pd.DataFrame({\"Total Players\" : [Players_Count]}, index=[0])\n",
    "Players_df"
   ]
  },
  {
   "cell_type": "code",
   "execution_count": null,
   "metadata": {},
   "outputs": [],
   "source": [
    "# Purchasing Analysis (Total)\n",
    "# Number of unique items\n",
    "unique_items_count = hp_df[\"Item ID\"].nunique()\n",
    "# Number of purchases\n",
    "total_purchase = len(hp_df[\"Price\"])\n",
    "# Total Revenue\n",
    "total_revenue = sum(hp_df[\"Price\"])\n",
    "# total_rev = \"$\" + format(total_revenue,\".2f\")\n",
    "total_rev = round(total_revenue,2)\n",
    "total_rev = \"$\" + str(total_rev)\n",
    "# Average Purchase Price\n",
    "# avg_purchase_price = \"$\" + format(total_revenue/total_purchase,\".2f\")\n",
    "avg_purchase_price = round(total_revenue/total_purchase,2)\n",
    "avg_purchase_price = \"$\" + str(avg_purchase_price)\n",
    "# Purchasing Analysis (Total)\n",
    "pa_table = pd.DataFrame({\"Number of Unique Items\": unique_items_count,\n",
    "                         \"Average Price\": avg_purchase_price,\n",
    "                         \"Number of Purchases\": total_purchase,\n",
    "                         \"Total Revenue\": total_rev }, index=[0])\n",
    "pa_table[[\"Number of Unique Items\", \"Average Price\", \"Number of Purchases\",\"Total Revenue\"]]"
   ]
  },
  {
   "cell_type": "code",
   "execution_count": null,
   "metadata": {},
   "outputs": [],
   "source": [
    "# Gender Demographics\n",
    "# Group By Gender and get count of each\n",
    "gender_count = hp_df[\"Gender\"].value_counts()\n",
    "# Calculate Pecentage of Players by Gender\n",
    "gender_percent = (gender_count/sum(gender_count)) * 100\n",
    "gender_demographics = pd.DataFrame({\"Total Count\":gender_count,\n",
    "                                    \"Percentage of Players\": gender_percent})\n",
    "gender_demographics[\"Percentage of Players\"] = pd.Series([\"{0:.2f}\".format(val) for val in gender_percent], index=gender_demographics.index)\n",
    "gender_demographics"
   ]
  },
  {
   "cell_type": "code",
   "execution_count": null,
   "metadata": {},
   "outputs": [],
   "source": [
    "# Purchasing Analysis(Gender)\n",
    "# Group by Gender\n",
    "pa_group = hp_df.groupby('Gender')\n",
    "# Calculate no.of purchases and their value\n",
    "purchase_count = pa_group[\"Price\"].count()\n",
    "purchase_value = pa_group[\"Price\"].sum()\n",
    "# get distinct player count for Normalized total\n",
    "norm_gender_count = pa_group[\"SN\"].nunique()\n",
    "# Create a DataFrame\n",
    "pa_df = pd.DataFrame({\"Purchase Count\": purchase_count,\n",
    "                      \"Average Purchase Price\": (purchase_value/purchase_count),\n",
    "                      \"Total Purchase Value\": purchase_value,\n",
    "                      \"Normalized Totals\":(purchase_value/norm_gender_count)})\n",
    "# format Amount Values\n",
    "# pa_df[\"Average Purchase Price\"] = pd.Series([\"${0:.2f}\".format(val) for val in pa_df[\"Average Purchase Price\"]], index=pa_df.index)\n",
    "# pa_df[\"Total Purchase Value\"] = pd.Series([\"${0:.2f}\".format(val) for val in pa_df[\"Total Purchase Value\"]], index=pa_df.index)\n",
    "# pa_df[\"Normalized Totals\"] = pd.Series([\"${0:.2f}\".format(val) for val in pa_df[\"Normalized Totals\"]], index=pa_df.index)\n",
    "\n",
    "pa_df.applymap(lambda x: '%.2f' % x)\n",
    "\n",
    "pa_df[[\"Purchase Count\",\"Average Purchase Price\", \"Total Purchase Value\",\"Normalized Totals\"]]"
   ]
  },
  {
   "cell_type": "code",
   "execution_count": null,
   "metadata": {},
   "outputs": [],
   "source": [
    "# Age Demographics\n",
    "# Set bin values and their recpective labels\n",
    "bins = [0,10,14,19,24,29,34,39,45]\n",
    "group_names = [\"<10\",\"10-14\",\"15-19\",\"20-24\",\"25-29\",\"30-34\",\"35-39\",\"40+\"]\n",
    "# Create a new column and set the value based on the age bin\n",
    "hp_df[\"Age Summary\"] = pd.cut(hp_df[\"Age\"], bins, labels=group_names)\n",
    "# Group the data based on the bin values set up\n",
    "age_group = hp_df.groupby(\"Age Summary\")\n",
    "# Calculate no. of purchases and their value\n",
    "purchase_count = age_group[\"Price\"].count()\n",
    "purchase_value = age_group[\"Price\"].sum()\n",
    "# Calculate Average Purchase Price\n",
    "avg_pur_price  = purchase_value/purchase_count\n",
    "# Calculate Normalized Total\n",
    "normalized_total = purchase_value/age_group[\"SN\"].nunique()\n",
    "\n",
    "# create a DataFrame\n",
    "age_df = pd.DataFrame({\"Purchase Count\": purchase_count,\n",
    "                       \"Average Purchase Price\": avg_pur_price,\n",
    "                       \"Total Purchase Value\": purchase_value,\n",
    "                       \"Normalized Totals\": normalized_total})\n",
    "# format amount values\n",
    "age_df[\"Total Purchase Value\"] = pd.Series([\"${0:.2f}\".format(val) for val in age_df[\"Total Purchase Value\"]], index=age_df.index)\n",
    "age_df[\"Normalized Totals\"] = pd.Series([\"${0:.2f}\".format(val) for val in age_df[\"Normalized Totals\"]], index=age_df.index)\n",
    "age_df[\"Average Purchase Price\"] = pd.Series([\"${0:.2f}\".format(val) for val in age_df[\"Average Purchase Price\"]],\n",
    "                                   index=age_df.index)\n",
    "# display data\n",
    "age_df[[\"Purchase Count\",\"Average Purchase Price\", \"Total Purchase Value\",\"Normalized Totals\"]]"
   ]
  },
  {
   "cell_type": "code",
   "execution_count": null,
   "metadata": {},
   "outputs": [],
   "source": [
    "# Top Spenders\n",
    "# Group Data based on the players\n",
    "sp_group = hp_df.groupby('SN')\n",
    "# Calculate no. of purchases made by each player and their purchase value\n",
    "purchase_count = sp_group[\"Price\"].count()\n",
    "purchase_value = sp_group[\"Price\"].sum()\n",
    "# Calculate Average Purchase Price for each player\n",
    "avg_pur_price = purchase_value/purchase_count\n",
    "\n",
    "# create a DataFrame\n",
    "sp_df = pd.DataFrame({\"Purchase Count\": purchase_count,\n",
    "                       \"Average Purchase Price\": avg_pur_price,\n",
    "                       \"Total Purchase Value\": purchase_value })\n",
    "\n",
    "# Sort DataFrame based on Total Purchase Value\n",
    "sp_sorted_df = sp_df.sort_values(by=\"Total Purchase Value\", ascending=False).head()\n",
    "# Format Amount values\n",
    "sp_sorted_df[\"Total Purchase Value\"] = pd.Series([\"${0:.2f}\".format(val) for val in sp_sorted_df[\"Total Purchase Value\"]], \n",
    "                                          index=sp_sorted_df.index)\n",
    "sp_sorted_df[\"Average Purchase Price\"] = pd.Series([\"${0:.2f}\".format(val) for val in sp_sorted_df[\"Average Purchase Price\"]],\n",
    "                                   index=sp_sorted_df.index)\n",
    "'''                                          \n",
    "sa_df['sort'] = sa_df[\"Total Purchase Value\"].str.extract('(\\d+)', expand=False).astype(int)\n",
    "sa_df.sort_values('sort', inplace=True, ascending=False)\n",
    "sa_df = sa_df.drop('sort', axis=1)                                         \n",
    "'''\n",
    "sp_sorted_df[[\"Purchase Count\",\"Average Purchase Price\", \"Total Purchase Value\"]]\n"
   ]
  },
  {
   "cell_type": "code",
   "execution_count": null,
   "metadata": {},
   "outputs": [],
   "source": [
    "# Most Popular Items\n",
    "# Group the data based on the Item ID\n",
    "pi_group = hp_df.groupby([\"Item ID\",\"Item Name\"])\n",
    "\n",
    "# Calculate No. of Purchases made for each Item and its Purchase Value\n",
    "purchase_count = pi_group[\"Price\"].count()\n",
    "purchase_value = pi_group[\"Price\"].sum()\n",
    "# Calculate each Item Price\n",
    "item_price = purchase_value/purchase_count\n",
    "\n",
    "# Create a DataFrame\n",
    "pi_df = pd.DataFrame({\"Purchase Count\": purchase_count,\n",
    "                       \"Item Price\": item_price,\n",
    "                       \"Total Purchase Value\": purchase_value })\n",
    "\n",
    "# sort DataFrame based on Purchase Count\n",
    "popular_item_df = pi_df.sort_values(\"Purchase Count\",ascending=False).head()\n",
    "\n",
    "# format Amount Values\n",
    "popular_item_df[\"Total Purchase Value\"] = pd.Series([\"${0:.2f}\".format(val) for val in popular_item_df[\"Total Purchase Value\"]], \n",
    "                                          index=popular_item_df.index)\n",
    "popular_item_df[\"Item Price\"] = pd.Series([\"${0:.2f}\".format(val) for val in popular_item_df[\"Item Price\"]],\n",
    "                                   index=popular_item_df.index)\n",
    "# show data\n",
    "popular_item_df[[\"Purchase Count\",\"Item Price\", \"Total Purchase Value\"]]\n"
   ]
  },
  {
   "cell_type": "code",
   "execution_count": null,
   "metadata": {},
   "outputs": [],
   "source": [
    "# Most Profitable Items\n",
    "# Use the above DataFrame but sort it based on Total Purchase Value \n",
    "pro_items_df = pi_df.sort_values(by=\"Total Purchase Value\", ascending=False).head()\n",
    "# format Amount Values\n",
    "pro_items_df[\"Total Purchase Value\"] = pd.Series([\"${0:.2f}\".format(val) for val in pro_items_df[\"Total Purchase Value\"]], \n",
    "                                          index=pro_items_df.index)\n",
    "pro_items_df[\"Item Price\"] = pd.Series([\"${0:.2f}\".format(val) for val in pro_items_df[\"Item Price\"]],\n",
    "                                   index=pro_items_df.index)\n",
    "# show data\n",
    "pro_items_df[[\"Purchase Count\",\"Item Price\", \"Total Purchase Value\"]]"
   ]
  }
 ],
 "metadata": {
  "kernelspec": {
   "display_name": "Python 3",
   "language": "python",
   "name": "python3"
  },
  "language_info": {
   "codemirror_mode": {
    "name": "ipython",
    "version": 3
   },
   "file_extension": ".py",
   "mimetype": "text/x-python",
   "name": "python",
   "nbconvert_exporter": "python",
   "pygments_lexer": "ipython3",
   "version": "3.6.3"
  }
 },
 "nbformat": 4,
 "nbformat_minor": 2
}
